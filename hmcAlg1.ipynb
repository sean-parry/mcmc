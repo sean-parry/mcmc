{
 "cells": [
  {
   "cell_type": "code",
   "execution_count": 1,
   "metadata": {},
   "outputs": [],
   "source": [
    "%%capture\n",
    "%pip install numpy\n",
    "%pip install matplotlib"
   ]
  },
  {
   "cell_type": "code",
   "execution_count": 3,
   "metadata": {},
   "outputs": [],
   "source": [
    "import numpy as np\n",
    "import matplotlib.pyplot as plt"
   ]
  },
  {
   "cell_type": "code",
   "execution_count": null,
   "metadata": {},
   "outputs": [],
   "source": [
    "# ok so lets make theta a static target normally distributed?\n",
    "def normal_dist(x,mu,covar):\n",
    "    return\n",
    "\n",
    "\n",
    "def p_theta(x):\n",
    "    return normal_dist(x,3,1)\n",
    "\n",
    "\n",
    "def deriv_r(th):\n",
    "    return th\n",
    "\n",
    "def deriv_theta(r,th):\n",
    "    return r+\n",
    "\n",
    "def new_theta(th):\n",
    "    return\n",
    "\n",
    "\n",
    "def main_loop():\n",
    "    theta, r_arr = [],[0]\n",
    "    step_size, total_t, time_iters = 0.1, 10, 10\n",
    "    m = 1 # would be identity matrix for higher dimension target\n",
    "    for t in range(total_t):\n",
    "        r_arr[0] = r_arr[0]+(step_size/2)*deriv_r(theta[0])\n",
    "        for i in range(time_iters):\n",
    "            theta.append()\n",
    "\n",
    "\n",
    "    return theta, r_arr"
   ]
  }
 ],
 "metadata": {
  "kernelspec": {
   "display_name": ".venv",
   "language": "python",
   "name": "python3"
  },
  "language_info": {
   "codemirror_mode": {
    "name": "ipython",
    "version": 3
   },
   "file_extension": ".py",
   "mimetype": "text/x-python",
   "name": "python",
   "nbconvert_exporter": "python",
   "pygments_lexer": "ipython3",
   "version": "3.11.5"
  }
 },
 "nbformat": 4,
 "nbformat_minor": 2
}
